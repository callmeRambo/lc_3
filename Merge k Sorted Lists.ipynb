{
 "cells": [
  {
   "cell_type": "markdown",
   "metadata": {},
   "source": [
    "23 Merge k Sorted Lists\n",
    "\n",
    "Merge k sorted linked lists and return it as one sorted list. Analyze and describe its complexity. "
   ]
  },
  {
   "cell_type": "markdown",
   "metadata": {},
   "source": [
    "方法1：优先队列"
   ]
  },
  {
   "cell_type": "code",
   "execution_count": 1,
   "metadata": {
    "collapsed": true
   },
   "outputs": [],
   "source": [
    "# Definition for singly-linked list.\n",
    "class ListNode(object):\n",
    "     def __init__(self, x):\n",
    "         self.val = x\n",
    "         self.next = None\n",
    "\n",
    "from Queue import PriorityQueue\n",
    "\n",
    "class Solution(object):\n",
    "    def mergeKLists(self, lists):\n",
    "        \"\"\"\n",
    "        :type lists: List[ListNode]\n",
    "        :rtype: ListNode\n",
    "        \"\"\"\n",
    "        head = point = ListNode(0)\n",
    "        q = PriorityQueue()\n",
    "        for l in lists:\n",
    "            if l:\n",
    "                q.put((l.val, l))\n",
    "        while not q.empty():\n",
    "            val, node = q.get()\n",
    "            point.next = ListNode(val)\n",
    "            point = point.next\n",
    "            node = node.next\n",
    "            if node:\n",
    "                q.put((node.val, node))\n",
    "        return head.next\n",
    "    "
   ]
  },
  {
   "cell_type": "markdown",
   "metadata": {},
   "source": [
    "方法2：归并"
   ]
  },
  {
   "cell_type": "code",
   "execution_count": null,
   "metadata": {
    "collapsed": true
   },
   "outputs": [],
   "source": [
    "\n",
    "class Solution(object):\n",
    "    def mergeKLists(self, lists):\n",
    "        \"\"\"\n",
    "        :type lists: List[ListNode]\n",
    "        :rtype: ListNode\n",
    "        \"\"\"\n",
    "        amount = len(lists)\n",
    "        interval = 1\n",
    "        while interval < amount:\n",
    "            for i in range(0, amount - interval, interval * 2):\n",
    "                lists[i] = self.merge2Lists(lists[i], lists[i + interval])\n",
    "            interval *= 2\n",
    "        return lists[0] if amount > 0 else lists\n",
    "\n",
    "    def merge2Lists(self, l1, l2):\n",
    "        head = point = ListNode(0)\n",
    "        while l1 and l2:\n",
    "            if l1.val <= l2.val:\n",
    "                point.next = l1\n",
    "                l1 = l1.next\n",
    "            else:\n",
    "                point.next = l2\n",
    "                l2 = l1\n",
    "                l1 = point.next.next\n",
    "            point = point.next\n",
    "        if not l1:\n",
    "            point.next=l2\n",
    "        else:\n",
    "            point.next=l1\n",
    "        return head.next"
   ]
  },
  {
   "cell_type": "markdown",
   "metadata": {},
   "source": [
    "方法3：蛮力法"
   ]
  },
  {
   "cell_type": "code",
   "execution_count": null,
   "metadata": {
    "collapsed": true
   },
   "outputs": [],
   "source": [
    "\n",
    "\n",
    "# Definition for singly-linked list.\n",
    "# class ListNode(object):\n",
    "#     def __init__(self, x):\n",
    "#         self.val = x\n",
    "#         self.next = None\n",
    "import heapq\n",
    "class Solution(object):\n",
    "    def mergeKLists(self, lists):\n",
    "        \"\"\"\n",
    "        :type lists: List[ListNode]\n",
    "        :rtype: ListNode\n",
    "        \"\"\"\n",
    "        res = [] \n",
    "        for i in xrange(len(lists)):\n",
    "            l = lists[i]\n",
    "            while l != None:\n",
    "                res.append(l)\n",
    "                l = l.next\n",
    "        res = sorted(res, key = lambda x : x.val)\n",
    "        for i in xrange(len(res) -1):\n",
    "            res[i].next = res[i + 1]\n",
    "        if len(res) > 0:\n",
    "            res[-1].next = None\n",
    "            return res[0]\n",
    "        return None\n",
    "        \n",
    "                    "
   ]
  }
 ],
 "metadata": {
  "kernelspec": {
   "display_name": "Python 3",
   "language": "python",
   "name": "python3"
  },
  "language_info": {
   "codemirror_mode": {
    "name": "ipython",
    "version": 3
   },
   "file_extension": ".py",
   "mimetype": "text/x-python",
   "name": "python",
   "nbconvert_exporter": "python",
   "pygments_lexer": "ipython3",
   "version": "3.6.3"
  }
 },
 "nbformat": 4,
 "nbformat_minor": 2
}
